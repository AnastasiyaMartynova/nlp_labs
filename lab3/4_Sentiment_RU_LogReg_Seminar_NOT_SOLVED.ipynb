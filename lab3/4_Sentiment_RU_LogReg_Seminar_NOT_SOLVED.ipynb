{
 "cells": [
  {
   "cell_type": "markdown",
   "id": "31c46619",
   "metadata": {
    "id": "31c46619"
   },
   "source": [
    "\n",
    "# Анализ тональности — Логистическая регрессия + визуализация\n"
   ]
  },
  {
   "cell_type": "code",
   "execution_count": 15,
   "id": "0acf65bd",
   "metadata": {},
   "outputs": [
    {
     "name": "stdout",
     "output_type": "stream",
     "text": [
      "Requirement already satisfied: matplotlib in c:\\users\\anmrt\\desktop\\nlp_labs\\venv\\lib\\site-packages (3.10.6)\n",
      "Requirement already satisfied: nltk in c:\\users\\anmrt\\desktop\\nlp_labs\\venv\\lib\\site-packages (3.9.2)\n",
      "Requirement already satisfied: contourpy>=1.0.1 in c:\\users\\anmrt\\desktop\\nlp_labs\\venv\\lib\\site-packages (from matplotlib) (1.3.3)\n",
      "Requirement already satisfied: cycler>=0.10 in c:\\users\\anmrt\\desktop\\nlp_labs\\venv\\lib\\site-packages (from matplotlib) (0.12.1)\n",
      "Requirement already satisfied: fonttools>=4.22.0 in c:\\users\\anmrt\\desktop\\nlp_labs\\venv\\lib\\site-packages (from matplotlib) (4.60.1)\n",
      "Requirement already satisfied: kiwisolver>=1.3.1 in c:\\users\\anmrt\\desktop\\nlp_labs\\venv\\lib\\site-packages (from matplotlib) (1.4.9)\n",
      "Requirement already satisfied: numpy>=1.23 in c:\\users\\anmrt\\desktop\\nlp_labs\\venv\\lib\\site-packages (from matplotlib) (2.3.3)\n",
      "Requirement already satisfied: packaging>=20.0 in c:\\users\\anmrt\\desktop\\nlp_labs\\venv\\lib\\site-packages (from matplotlib) (25.0)\n",
      "Requirement already satisfied: pillow>=8 in c:\\users\\anmrt\\desktop\\nlp_labs\\venv\\lib\\site-packages (from matplotlib) (11.3.0)\n",
      "Requirement already satisfied: pyparsing>=2.3.1 in c:\\users\\anmrt\\desktop\\nlp_labs\\venv\\lib\\site-packages (from matplotlib) (3.2.5)\n",
      "Requirement already satisfied: python-dateutil>=2.7 in c:\\users\\anmrt\\desktop\\nlp_labs\\venv\\lib\\site-packages (from matplotlib) (2.9.0.post0)\n",
      "Requirement already satisfied: click in c:\\users\\anmrt\\desktop\\nlp_labs\\venv\\lib\\site-packages (from nltk) (8.3.0)\n",
      "Requirement already satisfied: joblib in c:\\users\\anmrt\\desktop\\nlp_labs\\venv\\lib\\site-packages (from nltk) (1.5.2)\n",
      "Requirement already satisfied: regex>=2021.8.3 in c:\\users\\anmrt\\desktop\\nlp_labs\\venv\\lib\\site-packages (from nltk) (2025.9.18)\n",
      "Requirement already satisfied: tqdm in c:\\users\\anmrt\\desktop\\nlp_labs\\venv\\lib\\site-packages (from nltk) (4.67.1)\n",
      "Requirement already satisfied: six>=1.5 in c:\\users\\anmrt\\desktop\\nlp_labs\\venv\\lib\\site-packages (from python-dateutil>=2.7->matplotlib) (1.17.0)\n",
      "Requirement already satisfied: colorama in c:\\users\\anmrt\\desktop\\nlp_labs\\venv\\lib\\site-packages (from click->nltk) (0.4.6)\n",
      "Note: you may need to restart the kernel to use updated packages.\n"
     ]
    },
    {
     "name": "stderr",
     "output_type": "stream",
     "text": [
      "\n",
      "[notice] A new release of pip is available: 24.0 -> 25.2\n",
      "[notice] To update, run: python.exe -m pip install --upgrade pip\n"
     ]
    }
   ],
   "source": [
    "pip install matplotlib nltk"
   ]
  },
  {
   "cell_type": "code",
   "execution_count": 16,
   "id": "b174dba8222f05b0",
   "metadata": {
    "ExecuteTime": {
     "end_time": "2025-10-06T07:11:01.416247Z",
     "start_time": "2025-10-06T07:11:01.413867Z"
    },
    "id": "b174dba8222f05b0"
   },
   "outputs": [],
   "source": [
    "import os, csv, re, random, string, numpy as np\n",
    "import matplotlib.pyplot as plt\n",
    "from collections import Counter, defaultdict\n",
    "from typing import List, Dict, Tuple"
   ]
  },
  {
   "cell_type": "code",
   "execution_count": 17,
   "id": "b864fc21e9fdf6a5",
   "metadata": {
    "ExecuteTime": {
     "end_time": "2025-10-06T07:11:01.474165Z",
     "start_time": "2025-10-06T07:11:01.470536Z"
    },
    "id": "b864fc21e9fdf6a5",
    "outputId": "80f160e9-e390-460a-905c-4f63654ae6f3"
   },
   "outputs": [
    {
     "name": "stderr",
     "output_type": "stream",
     "text": [
      "[nltk_data] Downloading package twitter_samples to\n",
      "[nltk_data]     C:\\Users\\anmrt\\AppData\\Roaming\\nltk_data...\n",
      "[nltk_data]   Package twitter_samples is already up-to-date!\n",
      "[nltk_data] Downloading package stopwords to\n",
      "[nltk_data]     C:\\Users\\anmrt\\AppData\\Roaming\\nltk_data...\n",
      "[nltk_data]   Package stopwords is already up-to-date!\n",
      "[nltk_data] Downloading package punkt to\n",
      "[nltk_data]     C:\\Users\\anmrt\\AppData\\Roaming\\nltk_data...\n",
      "[nltk_data]   Package punkt is already up-to-date!\n",
      "[nltk_data] Downloading package stopwords to\n",
      "[nltk_data]     C:\\Users\\anmrt\\AppData\\Roaming\\nltk_data...\n",
      "[nltk_data]   Package stopwords is already up-to-date!\n"
     ]
    },
    {
     "data": {
      "text/plain": [
       "True"
      ]
     },
     "execution_count": 17,
     "metadata": {},
     "output_type": "execute_result"
    }
   ],
   "source": [
    "import nltk\n",
    "nltk.download('twitter_samples')\n",
    "nltk.download('stopwords')\n",
    "nltk.download('punkt')\n",
    "nltk.download('stopwords')"
   ]
  },
  {
   "cell_type": "code",
   "execution_count": 18,
   "id": "a581ca44",
   "metadata": {},
   "outputs": [
    {
     "name": "stdout",
     "output_type": "stream",
     "text": [
      "Requirement already satisfied: scikit-learn in c:\\users\\anmrt\\desktop\\nlp_labs\\venv\\lib\\site-packages (1.7.2)\n",
      "Requirement already satisfied: numpy>=1.22.0 in c:\\users\\anmrt\\desktop\\nlp_labs\\venv\\lib\\site-packages (from scikit-learn) (2.3.3)\n",
      "Requirement already satisfied: scipy>=1.8.0 in c:\\users\\anmrt\\desktop\\nlp_labs\\venv\\lib\\site-packages (from scikit-learn) (1.16.2)\n",
      "Requirement already satisfied: joblib>=1.2.0 in c:\\users\\anmrt\\desktop\\nlp_labs\\venv\\lib\\site-packages (from scikit-learn) (1.5.2)\n",
      "Requirement already satisfied: threadpoolctl>=3.1.0 in c:\\users\\anmrt\\desktop\\nlp_labs\\venv\\lib\\site-packages (from scikit-learn) (3.6.0)\n",
      "Note: you may need to restart the kernel to use updated packages.\n"
     ]
    },
    {
     "name": "stderr",
     "output_type": "stream",
     "text": [
      "\n",
      "[notice] A new release of pip is available: 24.0 -> 25.2\n",
      "[notice] To update, run: python.exe -m pip install --upgrade pip\n"
     ]
    }
   ],
   "source": [
    "pip install scikit-learn"
   ]
  },
  {
   "cell_type": "code",
   "execution_count": 19,
   "id": "95579d1c",
   "metadata": {
    "ExecuteTime": {
     "end_time": "2025-10-06T07:11:01.528705Z",
     "start_time": "2025-10-06T07:11:01.525595Z"
    },
    "id": "95579d1c"
   },
   "outputs": [],
   "source": [
    "from nltk.corpus import stopwords\n",
    "from nltk.stem.snowball import SnowballStemmer\n",
    "\n",
    "from sklearn.model_selection import train_test_split\n",
    "from sklearn.metrics import accuracy_score, classification_report, confusion_matrix, precision_recall_fscore_support\n",
    "from sklearn.feature_extraction.text import TfidfVectorizer\n",
    "from sklearn.linear_model import LogisticRegression\n",
    "from sklearn.naive_bayes import MultinomialNB\n",
    "from sklearn.pipeline import Pipeline\n"
   ]
  },
  {
   "cell_type": "markdown",
   "id": "8f8e5cb0",
   "metadata": {
    "id": "8f8e5cb0"
   },
   "source": [
    "## 1. Данные: CSV или демо-набор"
   ]
  },
  {
   "cell_type": "code",
   "execution_count": 20,
   "id": "fa206564",
   "metadata": {
    "ExecuteTime": {
     "end_time": "2025-10-06T07:11:01.584141Z",
     "start_time": "2025-10-06T07:11:01.579490Z"
    },
    "id": "fa206564",
    "outputId": "eb09b64a-3f48-4995-aa6b-9ff48d0a2658"
   },
   "outputs": [
    {
     "name": "stdout",
     "output_type": "stream",
     "text": [
      "Используется демо-набор: 20 примеров\n"
     ]
    }
   ],
   "source": [
    "\n",
    "def load_or_demo_ru_dataset(path='/data/ru_sentiment.csv'):\n",
    "    texts, labels = [], []\n",
    "    if os.path.exists(path):\n",
    "        with open(path, 'r', encoding='utf-8') as f:\n",
    "            reader = csv.DictReader(f)\n",
    "            assert 'text' in reader.fieldnames and 'label' in reader.fieldnames, \"Нужны колонки text,label\"\n",
    "            for row in reader:\n",
    "                texts.append(row['text'])\n",
    "                labels.append(int(row['label']))\n",
    "        print(f\"Загружен датасет: {len(texts)} строк из {path}\")\n",
    "    else:\n",
    "        pos = [\n",
    "            \"Фильм отличный, получила огромное удовольствие!\",\n",
    "            \"Очень понравился сервис, всё быстро и качественно.\",\n",
    "            \"Музыка вдохновляет, прекрасное исполнение.\",\n",
    "            \"Хороший товар, соответствует описанию.\",\n",
    "            \"Книга захватывает, рекомендую!\",\n",
    "            \"Прекрасное приложение, удобно и функционально.\",\n",
    "            \"Ресторан порадовал вкусной кухней и атмосферой.\",\n",
    "            \"Поддержка ответила быстро, проблему решили.\",\n",
    "            \"Курс полезный и понятный, много практики.\",\n",
    "            \"Отличная работа команды!\"\n",
    "        ]\n",
    "        neg = [\n",
    "            \"Фильм скучный и затянутый, жаль времени.\",\n",
    "            \"Сервис ужасный, не отвечают на сообщения.\",\n",
    "            \"Музыка отвратительная, трудно слушать.\",\n",
    "            \"Товар пришёл повреждённый, разочарована.\",\n",
    "            \"Книга не понравилась, слабый сюжет.\",\n",
    "            \"Приложение вылетает и тормозит.\",\n",
    "            \"Еда невкусная, обслуживание медленное.\",\n",
    "            \"Поддержка молчит, проблему не решили.\",\n",
    "            \"Курс пустой, ничего нового.\",\n",
    "            \"Команда подвела, сроки сорваны.\"\n",
    "        ]\n",
    "        texts = pos + neg\n",
    "        labels = [1]*len(pos) + [0]*len(neg)\n",
    "        print(f\"Используется демо-набор: {len(texts)} примеров\")\n",
    "    return texts, np.array(labels, dtype=int)\n",
    "\n",
    "texts, labels = load_or_demo_ru_dataset()\n"
   ]
  },
  {
   "cell_type": "markdown",
   "id": "79d9b924",
   "metadata": {
    "id": "79d9b924"
   },
   "source": [
    "## 2. Предобработка и подсчет частот"
   ]
  },
  {
   "cell_type": "code",
   "execution_count": 21,
   "id": "4706bc8da3b6a5b2",
   "metadata": {
    "ExecuteTime": {
     "end_time": "2025-10-06T07:11:01.632838Z",
     "start_time": "2025-10-06T07:11:01.630353Z"
    },
    "id": "4706bc8da3b6a5b2"
   },
   "outputs": [],
   "source": [
    "\n",
    "ru_stop = set(stopwords.words('russian'))\n",
    "stemmer = SnowballStemmer(\"russian\")\n",
    "token_re = re.compile(r\"[A-Za-zА-Яа-яЁё]+\")"
   ]
  },
  {
   "cell_type": "code",
   "execution_count": 22,
   "id": "8b36ae9cdb6ab548",
   "metadata": {
    "ExecuteTime": {
     "end_time": "2025-10-06T07:11:01.688294Z",
     "start_time": "2025-10-06T07:11:01.683544Z"
    },
    "id": "8b36ae9cdb6ab548",
    "outputId": "f51d8bbe-ad10-4989-d3e0-47de39241866"
   },
   "outputs": [
    {
     "data": {
      "text/plain": [
       "{'а',\n",
       " 'без',\n",
       " 'более',\n",
       " 'больше',\n",
       " 'будет',\n",
       " 'будто',\n",
       " 'бы',\n",
       " 'был',\n",
       " 'была',\n",
       " 'были',\n",
       " 'было',\n",
       " 'быть',\n",
       " 'в',\n",
       " 'вам',\n",
       " 'вас',\n",
       " 'вдруг',\n",
       " 'ведь',\n",
       " 'во',\n",
       " 'вот',\n",
       " 'впрочем',\n",
       " 'все',\n",
       " 'всегда',\n",
       " 'всего',\n",
       " 'всех',\n",
       " 'всю',\n",
       " 'вы',\n",
       " 'где',\n",
       " 'да',\n",
       " 'даже',\n",
       " 'два',\n",
       " 'для',\n",
       " 'до',\n",
       " 'другой',\n",
       " 'его',\n",
       " 'ее',\n",
       " 'ей',\n",
       " 'ему',\n",
       " 'если',\n",
       " 'есть',\n",
       " 'еще',\n",
       " 'ж',\n",
       " 'же',\n",
       " 'за',\n",
       " 'зачем',\n",
       " 'здесь',\n",
       " 'и',\n",
       " 'из',\n",
       " 'или',\n",
       " 'им',\n",
       " 'иногда',\n",
       " 'их',\n",
       " 'к',\n",
       " 'как',\n",
       " 'какая',\n",
       " 'какой',\n",
       " 'когда',\n",
       " 'конечно',\n",
       " 'кто',\n",
       " 'куда',\n",
       " 'ли',\n",
       " 'лучше',\n",
       " 'между',\n",
       " 'меня',\n",
       " 'мне',\n",
       " 'много',\n",
       " 'может',\n",
       " 'можно',\n",
       " 'мой',\n",
       " 'моя',\n",
       " 'мы',\n",
       " 'на',\n",
       " 'над',\n",
       " 'надо',\n",
       " 'наконец',\n",
       " 'нас',\n",
       " 'не',\n",
       " 'него',\n",
       " 'нее',\n",
       " 'ней',\n",
       " 'нельзя',\n",
       " 'нет',\n",
       " 'ни',\n",
       " 'нибудь',\n",
       " 'никогда',\n",
       " 'ним',\n",
       " 'них',\n",
       " 'ничего',\n",
       " 'но',\n",
       " 'ну',\n",
       " 'о',\n",
       " 'об',\n",
       " 'один',\n",
       " 'он',\n",
       " 'она',\n",
       " 'они',\n",
       " 'опять',\n",
       " 'от',\n",
       " 'перед',\n",
       " 'по',\n",
       " 'под',\n",
       " 'после',\n",
       " 'потом',\n",
       " 'потому',\n",
       " 'почти',\n",
       " 'при',\n",
       " 'про',\n",
       " 'раз',\n",
       " 'разве',\n",
       " 'с',\n",
       " 'сам',\n",
       " 'свою',\n",
       " 'себе',\n",
       " 'себя',\n",
       " 'сейчас',\n",
       " 'со',\n",
       " 'совсем',\n",
       " 'так',\n",
       " 'такой',\n",
       " 'там',\n",
       " 'тебя',\n",
       " 'тем',\n",
       " 'теперь',\n",
       " 'то',\n",
       " 'тогда',\n",
       " 'того',\n",
       " 'тоже',\n",
       " 'только',\n",
       " 'том',\n",
       " 'тот',\n",
       " 'три',\n",
       " 'тут',\n",
       " 'ты',\n",
       " 'у',\n",
       " 'уж',\n",
       " 'уже',\n",
       " 'хорошо',\n",
       " 'хоть',\n",
       " 'чего',\n",
       " 'чем',\n",
       " 'через',\n",
       " 'что',\n",
       " 'чтоб',\n",
       " 'чтобы',\n",
       " 'чуть',\n",
       " 'эти',\n",
       " 'этого',\n",
       " 'этой',\n",
       " 'этом',\n",
       " 'этот',\n",
       " 'эту',\n",
       " 'я'}"
      ]
     },
     "execution_count": 22,
     "metadata": {},
     "output_type": "execute_result"
    }
   ],
   "source": [
    "ru_stop"
   ]
  },
  {
   "cell_type": "code",
   "execution_count": 23,
   "id": "510d3aa645e311e5",
   "metadata": {
    "ExecuteTime": {
     "end_time": "2025-10-06T07:12:32.808567Z",
     "start_time": "2025-10-06T07:12:32.804130Z"
    },
    "id": "510d3aa645e311e5",
    "outputId": "c023c78a-9a1b-4fe5-954f-f954d61f755e"
   },
   "outputs": [
    {
     "data": {
      "text/plain": [
       "['цел',\n",
       " 'ден',\n",
       " 'бил',\n",
       " 'мета',\n",
       " 'клетк',\n",
       " 'ревел',\n",
       " 'лег',\n",
       " 'подл',\n",
       " 'мертв',\n",
       " 'собачк',\n",
       " 'зат']"
      ]
     },
     "execution_count": 23,
     "metadata": {},
     "output_type": "execute_result"
    }
   ],
   "source": [
    "# функция process_ru\n",
    "# разбивает входящий текст на слова,\n",
    "# удаляет стоп слова,\n",
    "# возвращает список слов\n",
    "# например,\n",
    "# text = \"Целый день он бился, метался в клетке и ревел, потом лёг подле мёртвой собачки и затих\"\n",
    "# process_ru(text)\n",
    "# ['цел',  'ден', 'бил', 'мета', 'клетк',  'ревел', 'лег', 'подл', 'мертв', 'собачк', 'зат']\n",
    "\n",
    "def process_ru(text: str):\n",
    "    text = text.lower()\n",
    "    tokens = token_re.findall(text)\n",
    "\n",
    "    processed_tokens = []\n",
    "    for token in tokens:\n",
    "        if token not in ru_stop:\n",
    "            stemmed_token = stemmer.stem(token)\n",
    "            processed_tokens.append(stemmed_token)\n",
    "    return processed_tokens\n",
    "\n",
    "text = \"Целый день он бился, метался в клетке и ревел, потом лёг подле мёртвой собачки и затих\"\n",
    "process_ru(text)"
   ]
  },
  {
   "cell_type": "code",
   "execution_count": 24,
   "id": "533d8bbb",
   "metadata": {
    "ExecuteTime": {
     "end_time": "2025-10-06T07:11:01.795360Z",
     "start_time": "2025-10-06T07:11:01.787769Z"
    },
    "id": "533d8bbb"
   },
   "outputs": [],
   "source": [
    "from collections import defaultdict\n",
    "\n",
    "# построить частотный словарь для каждого класса\n",
    "# для каждого слова будет возвращена информация в каком классе и сколько раз оно встречается\n",
    "# {('фильм', 1): 1, ('отличн', 1): 2, ('получ', 1): 1,....  ('фильм', 0): 1, ('скучн', 0): 1, ('затянут', 0): 1, ....}\n",
    "\n",
    "def build_freqs_ru(texts, ys):\n",
    "    freqs = defaultdict(int)\n",
    "    for text, label in zip(texts, ys):\n",
    "        processed_tokens = process_ru(text)\n",
    "\n",
    "        for token in processed_tokens:\n",
    "            freqs[(token, label)] += 1\n",
    "    \n",
    "    return freqs\n",
    "\n",
    "freqs = build_freqs_ru(texts, labels)\n"
   ]
  },
  {
   "cell_type": "code",
   "execution_count": 25,
   "id": "7f50bf8db723951f",
   "metadata": {
    "ExecuteTime": {
     "end_time": "2025-10-06T07:11:01.852043Z",
     "start_time": "2025-10-06T07:11:01.847271Z"
    },
    "id": "7f50bf8db723951f",
    "outputId": "1e96ba44-8208-49a8-f1e1-121737fd1902"
   },
   "outputs": [
    {
     "data": {
      "text/plain": [
       "defaultdict(int,\n",
       "            {('фильм', np.int64(1)): 1,\n",
       "             ('отличн', np.int64(1)): 2,\n",
       "             ('получ', np.int64(1)): 1,\n",
       "             ('огромн', np.int64(1)): 1,\n",
       "             ('удовольств', np.int64(1)): 1,\n",
       "             ('очен', np.int64(1)): 1,\n",
       "             ('понрав', np.int64(1)): 1,\n",
       "             ('сервис', np.int64(1)): 1,\n",
       "             ('все', np.int64(1)): 1,\n",
       "             ('быстр', np.int64(1)): 2,\n",
       "             ('качествен', np.int64(1)): 1,\n",
       "             ('музык', np.int64(1)): 1,\n",
       "             ('вдохновля', np.int64(1)): 1,\n",
       "             ('прекрасн', np.int64(1)): 2,\n",
       "             ('исполнен', np.int64(1)): 1,\n",
       "             ('хорош', np.int64(1)): 1,\n",
       "             ('товар', np.int64(1)): 1,\n",
       "             ('соответств', np.int64(1)): 1,\n",
       "             ('описан', np.int64(1)): 1,\n",
       "             ('книг', np.int64(1)): 1,\n",
       "             ('захватыва', np.int64(1)): 1,\n",
       "             ('рекоменд', np.int64(1)): 1,\n",
       "             ('приложен', np.int64(1)): 1,\n",
       "             ('удобн', np.int64(1)): 1,\n",
       "             ('функциональн', np.int64(1)): 1,\n",
       "             ('рестора', np.int64(1)): 1,\n",
       "             ('порадова', np.int64(1)): 1,\n",
       "             ('вкусн', np.int64(1)): 1,\n",
       "             ('кухн', np.int64(1)): 1,\n",
       "             ('атмосфер', np.int64(1)): 1,\n",
       "             ('поддержк', np.int64(1)): 1,\n",
       "             ('ответ', np.int64(1)): 1,\n",
       "             ('пробл', np.int64(1)): 1,\n",
       "             ('реш', np.int64(1)): 1,\n",
       "             ('курс', np.int64(1)): 1,\n",
       "             ('полезн', np.int64(1)): 1,\n",
       "             ('понятн', np.int64(1)): 1,\n",
       "             ('практик', np.int64(1)): 1,\n",
       "             ('работ', np.int64(1)): 1,\n",
       "             ('команд', np.int64(1)): 1,\n",
       "             ('фильм', np.int64(0)): 1,\n",
       "             ('скучн', np.int64(0)): 1,\n",
       "             ('затянут', np.int64(0)): 1,\n",
       "             ('жал', np.int64(0)): 1,\n",
       "             ('времен', np.int64(0)): 1,\n",
       "             ('сервис', np.int64(0)): 1,\n",
       "             ('ужасн', np.int64(0)): 1,\n",
       "             ('отвеча', np.int64(0)): 1,\n",
       "             ('сообщен', np.int64(0)): 1,\n",
       "             ('музык', np.int64(0)): 1,\n",
       "             ('отвратительн', np.int64(0)): 1,\n",
       "             ('трудн', np.int64(0)): 1,\n",
       "             ('слуша', np.int64(0)): 1,\n",
       "             ('товар', np.int64(0)): 1,\n",
       "             ('пришел', np.int64(0)): 1,\n",
       "             ('поврежден', np.int64(0)): 1,\n",
       "             ('разочарова', np.int64(0)): 1,\n",
       "             ('книг', np.int64(0)): 1,\n",
       "             ('понрав', np.int64(0)): 1,\n",
       "             ('слаб', np.int64(0)): 1,\n",
       "             ('сюжет', np.int64(0)): 1,\n",
       "             ('приложен', np.int64(0)): 1,\n",
       "             ('вылета', np.int64(0)): 1,\n",
       "             ('тормоз', np.int64(0)): 1,\n",
       "             ('ед', np.int64(0)): 1,\n",
       "             ('невкусн', np.int64(0)): 1,\n",
       "             ('обслуживан', np.int64(0)): 1,\n",
       "             ('медлен', np.int64(0)): 1,\n",
       "             ('поддержк', np.int64(0)): 1,\n",
       "             ('молч', np.int64(0)): 1,\n",
       "             ('пробл', np.int64(0)): 1,\n",
       "             ('реш', np.int64(0)): 1,\n",
       "             ('курс', np.int64(0)): 1,\n",
       "             ('пуст', np.int64(0)): 1,\n",
       "             ('нов', np.int64(0)): 1,\n",
       "             ('команд', np.int64(0)): 1,\n",
       "             ('подвел', np.int64(0)): 1,\n",
       "             ('срок', np.int64(0)): 1,\n",
       "             ('сорва', np.int64(0)): 1})"
      ]
     },
     "execution_count": 25,
     "metadata": {},
     "output_type": "execute_result"
    }
   ],
   "source": [
    "freqs"
   ]
  },
  {
   "cell_type": "markdown",
   "id": "093ccfb2",
   "metadata": {
    "id": "093ccfb2"
   },
   "source": [
    "## 3. Логистическая регрессия «с нуля» + график сходимости"
   ]
  },
  {
   "cell_type": "code",
   "execution_count": 26,
   "id": "4c7ac4cbca1473fc",
   "metadata": {
    "ExecuteTime": {
     "end_time": "2025-10-06T07:11:01.903642Z",
     "start_time": "2025-10-06T07:11:01.900298Z"
    },
    "id": "4c7ac4cbca1473fc"
   },
   "outputs": [],
   "source": [
    "\n",
    "import numpy as np\n",
    "\n",
    "# превращает текст в очень простой вектор признаков из 3 чисел:\n",
    "# [bias=1, сумма_позитивных_частот, сумма_негативных_частот].\n",
    "# bias=1 нужен линейным моделям как свободный коэффициент.\n",
    "# Так мы кодируем текст в очень компактные признаки, где модель “видит”,\n",
    "# насколько слова из текста чаще встречались у позитивных vs. негативных примеров.\n",
    "# Далее этот вектор подаётся в логистическую регрессию «с нуля»  для предсказания тональности.\n",
    "\n",
    "# Ограничение: грубый признак — игнорирует порядок слов, отрицания (“не понравилось”),\n",
    "# и различия силы отдельного слова (все слова просто суммируются).\n",
    "# Для лучшего качества обычно используют TF-IDF или другие способы\n",
    "# например, для следующих фраз соответствующие вектора выглядят так\n",
    "# \"Фильм отличный, получила огромное удовольствие!\"\n",
    "# [1. 6. 1.]\n",
    "# \"Очень понравился сервис, всё быстро и качественно.\"\n",
    "# [1. 7. 2.]\n",
    "\n",
    "def extract_features_ru(text: str, freqs) -> np.ndarray:\n",
    "    feature_vector = [1, 0, 0]\n",
    "    \n",
    "    processed_tokens = process_ru(text)\n",
    "    \n",
    "    for token in processed_tokens:\n",
    "        pos_freq = freqs.get((token, 1), 0)\n",
    "        neg_freq = freqs.get((token, 0), 0)\n",
    "        \n",
    "        feature_vector[1] += pos_freq\n",
    "        feature_vector[2] += neg_freq\n",
    "    \n",
    "    return np.array(feature_vector, dtype=float)"
   ]
  },
  {
   "cell_type": "code",
   "execution_count": 27,
   "id": "2036c5499b08d58d",
   "metadata": {
    "ExecuteTime": {
     "end_time": "2025-10-06T07:11:01.956434Z",
     "start_time": "2025-10-06T07:11:01.948179Z"
    },
    "id": "2036c5499b08d58d"
   },
   "outputs": [],
   "source": [
    "\n",
    "X = np.zeros((len(texts), 3))\n",
    "for i, t in enumerate(texts):\n",
    "    X[i, :] = extract_features_ru(t, freqs)\n",
    "\n",
    "X_train, X_test, y_train, y_test = train_test_split(X, labels, test_size=0.3, random_state=42, stratify=labels)"
   ]
  },
  {
   "cell_type": "code",
   "execution_count": 31,
   "id": "e06b334c9ad4f69c",
   "metadata": {
    "ExecuteTime": {
     "end_time": "2025-10-06T07:11:02.002435Z",
     "start_time": "2025-10-06T07:11:01.999405Z"
    },
    "id": "e06b334c9ad4f69c"
   },
   "outputs": [],
   "source": [
    "# запишите уравнение сигмоиды\n",
    "def sigmoid(z):\n",
    "    return 1 / (1 + np.exp(-z))"
   ]
  },
  {
   "cell_type": "code",
   "execution_count": 32,
   "id": "8ddd1c47cb82c8d4",
   "metadata": {
    "ExecuteTime": {
     "end_time": "2025-10-06T07:11:02.056702Z",
     "start_time": "2025-10-06T07:11:02.051729Z"
    },
    "id": "8ddd1c47cb82c8d4"
   },
   "outputs": [],
   "source": [
    "def gradient_descent(X, y, theta, alpha=1e-2, iters=800):\n",
    "    # X: (m, n) — матрица признаков (m примеров, n признаков)\n",
    "    # y: (m,) или (m,1) — бинарные метки {0,1}\n",
    "    # theta: (n,1) — вектор весов (включая bias, если первый столбец X — единицы)\n",
    "    # alpha — шаг обучения (learning rate)\n",
    "    # iters — число итераций\n",
    "\n",
    "    m = len(X)                          # m — число объектов (документов/примеров)\n",
    "    y = y.reshape(-1, 1).astype(float)  # приводим y к форме (m,1) и типу float для матр. операций\n",
    "    J_hist = []                         # сюда будем писать историю значения функции стоимости\n",
    "\n",
    "    for i in range(iters):\n",
    "        # Прямой проход: линейная комбинация признаков и сигмоида\n",
    "        # z = X @ theta имеет форму (m,1)\n",
    "        # h = sigma(z) — предсказанные вероятности класса \"1\" для всех m объектов\n",
    "        h = sigmoid(X @ theta)          # h: (m,1) в диапазоне (0,1)\n",
    "\n",
    "        # Функция стоимости (логистическая регрессия, бинарная кросс-энтропия):\n",
    "        # J(θ) = -(1/m) * [ y^T log(h) + (1-y)^T log(1-h) ]\n",
    "        # Добавляем маленький epsilon (1e-12), чтобы избежать log(0)\n",
    "        # J(θ) = -(1/m) * [ y^T log(h+ 1e-12) + (1-y)^T log(1-h+ 1e-12) ]\n",
    "        #\n",
    "        epsilon = 1e-12\n",
    "        J = -(1/m) * (y.T @ np.log(h + epsilon) + (1 - y).T @ np.log(1 - h + epsilon))                              # J — скаляр (матрица 1x1)\n",
    "        J = float(J)\n",
    "        # Градиент J по theta:\n",
    "        # grad = (1/m) * X^T (h - y)   форма (n,1)\n",
    "        grad = (1/m) * (X.T @ (h - y))\n",
    "\n",
    "        # Шаг градиентного спуска — двигаемся ПРОТИВ градиента\n",
    "        #\n",
    "        theta = theta - alpha*grad\n",
    "\n",
    "        # Сохраняем стоимость примерно 10 раз за обучение (чтобы рисовать график сходимости)\n",
    "        if i % max(1, iters // 10) == 0:\n",
    "            J_hist.append(float(J))\n",
    "\n",
    "    # Возвращаем последнюю стоимость (как float), обученные веса и историю J\n",
    "    return float(J), theta, J_hist\n"
   ]
  },
  {
   "cell_type": "code",
   "execution_count": 33,
   "id": "23ac084b",
   "metadata": {
    "ExecuteTime": {
     "end_time": "2025-10-06T07:11:02.198614Z",
     "start_time": "2025-10-06T07:11:02.106404Z"
    },
    "id": "23ac084b",
    "outputId": "d3fa1616-962b-4e8d-b2c2-d59a4d382cc0"
   },
   "outputs": [
    {
     "name": "stderr",
     "output_type": "stream",
     "text": [
      "C:\\Users\\anmrt\\AppData\\Local\\Temp\\ipykernel_21044\\4213126735.py:25: DeprecationWarning: Conversion of an array with ndim > 0 to a scalar is deprecated, and will error in future. Ensure you extract a single element from your array before performing this operation. (Deprecated NumPy 1.25.)\n",
      "  J = float(J)\n"
     ]
    },
    {
     "data": {
      "image/png": "[encoded data removed]",
      "text/plain": [
       "<Figure size 640x480 with 1 Axes>"
      ]
     },
     "metadata": {},
     "output_type": "display_data"
    }
   ],
   "source": [
    "\n",
    "theta0 = np.zeros((X_train.shape[1], 1))\n",
    "final_cost, theta, J_hist = gradient_descent(X_train, y_train, theta0, alpha=1e-2, iters=800)\n",
    "\n",
    "plt.figure()\n",
    "plt.title(\"Сходимость функции стоимости (LogReg scratch)\")\n",
    "plt.plot(J_hist)\n",
    "plt.xlabel(\"Чек-точки итераций\")\n",
    "plt.ylabel(\"Cost\")\n",
    "plt.show()\n"
   ]
  },
  {
   "cell_type": "markdown",
   "id": "846b2e17",
   "metadata": {
    "id": "846b2e17"
   },
   "source": [
    "## 4. Оценка + матрица ошибок"
   ]
  },
  {
   "cell_type": "code",
   "execution_count": 34,
   "id": "d6dc2d58",
   "metadata": {
    "ExecuteTime": {
     "end_time": "2025-10-06T07:11:02.323686Z",
     "start_time": "2025-10-06T07:11:02.219904Z"
    },
    "id": "d6dc2d58",
    "outputId": "9c0087f6-5bc2-485e-cef0-452997d0dcb7"
   },
   "outputs": [
    {
     "name": "stdout",
     "output_type": "stream",
     "text": [
      "Accuracy: 1.0 | Precision: 1.0 Recall: 1.0 F1: 1.0\n"
     ]
    },
    {
     "data": {
      "image/png": "[encoded data removed]",
      "text/plain": [
       "<Figure size 640x480 with 1 Axes>"
      ]
     },
     "metadata": {},
     "output_type": "display_data"
    }
   ],
   "source": [
    "\n",
    "from sklearn.metrics import accuracy_score, precision_recall_fscore_support, confusion_matrix\n",
    "\n",
    "y_hat = (sigmoid(X_test @ theta).reshape(-1) > 0.5).astype(int)\n",
    "acc = accuracy_score(y_test, y_hat)\n",
    "p, r, f1, _ = precision_recall_fscore_support(y_test, y_hat, average='binary', zero_division=0)\n",
    "print(\"Accuracy:\", acc, \"| Precision:\", round(p,3), \"Recall:\", round(r,3), \"F1:\", round(f1,3))\n",
    "\n",
    "cm = confusion_matrix(y_test, y_hat)\n",
    "plt.figure()\n",
    "plt.title(\"Confusion Matrix — LogReg (scratch)\")\n",
    "plt.imshow(cm)\n",
    "plt.xlabel(\"Predicted\"); plt.ylabel(\"True\")\n",
    "for i in range(cm.shape[0]):\n",
    "    for j in range(cm.shape[1]):\n",
    "        plt.text(j, i, cm[i, j], ha=\"center\", va=\"center\")\n",
    "plt.show()\n"
   ]
  },
  {
   "cell_type": "markdown",
   "id": "88262453",
   "metadata": {
    "id": "88262453"
   },
   "source": [
    "## 6. TF-IDF + MultinomialNB; TF-IDF + LogisticRegression"
   ]
  },
  {
   "cell_type": "code",
   "execution_count": 35,
   "id": "2403a640",
   "metadata": {
    "ExecuteTime": {
     "end_time": "2025-10-06T07:13:17.603207Z",
     "start_time": "2025-10-06T07:13:17.586203Z"
    },
    "id": "2403a640",
    "outputId": "50b3aeb3-4c43-4307-f18c-be132c5e5220"
   },
   "outputs": [
    {
     "name": "stdout",
     "output_type": "stream",
     "text": [
      "=== MultinomialNB ===\n",
      "Accuracy: 0.16666666666666666\n",
      "              precision    recall  f1-score   support\n",
      "\n",
      "         neg       0.25      0.33      0.29         3\n",
      "         pos       0.00      0.00      0.00         3\n",
      "\n",
      "    accuracy                           0.17         6\n",
      "   macro avg       0.12      0.17      0.14         6\n",
      "weighted avg       0.12      0.17      0.14         6\n",
      "\n",
      "=== LogisticRegression ===\n",
      "Accuracy: 0.3333333333333333\n",
      "              precision    recall  f1-score   support\n",
      "\n",
      "         neg       0.33      0.33      0.33         3\n",
      "         pos       0.33      0.33      0.33         3\n",
      "\n",
      "    accuracy                           0.33         6\n",
      "   macro avg       0.33      0.33      0.33         6\n",
      "weighted avg       0.33      0.33      0.33         6\n",
      "\n"
     ]
    }
   ],
   "source": [
    "\n",
    "X_tr, X_te, y_tr, y_te = train_test_split(texts, labels, test_size=0.3, random_state=42, stratify=labels)\n",
    "\n",
    "pipe_nb = Pipeline([('tfidf', TfidfVectorizer(stop_words=list(ru_stop), max_features=20000, ngram_range=(1,2))),\n",
    "                    ('clf', MultinomialNB())])\n",
    "\n",
    "pipe_lr = Pipeline([('tfidf', TfidfVectorizer(stop_words=list(ru_stop), max_features=20000, ngram_range=(1,2))),\n",
    "                    ('clf', LogisticRegression(max_iter=300))])\n",
    "\n",
    "for name, pipe in [('MultinomialNB', pipe_nb), ('LogisticRegression', pipe_lr)]:\n",
    "    pipe.fit(X_tr, y_tr)\n",
    "    preds = pipe.predict(X_te)\n",
    "    print(f\"=== {name} ===\")\n",
    "    print(\"Accuracy:\", accuracy_score(y_te, preds))\n",
    "    print(classification_report(y_te, preds, target_names=['neg','pos']))\n"
   ]
  },
  {
   "cell_type": "markdown",
   "id": "56bbe66b",
   "metadata": {
    "id": "56bbe66b"
   },
   "source": [
    "## 7. Частоты и WordCloud (тег-облако)"
   ]
  },
  {
   "cell_type": "code",
   "execution_count": 36,
   "id": "67e21d8b6a6c3567",
   "metadata": {
    "ExecuteTime": {
     "end_time": "2025-10-06T07:13:20.627596Z",
     "start_time": "2025-10-06T07:13:20.622570Z"
    },
    "id": "67e21d8b6a6c3567"
   },
   "outputs": [],
   "source": [
    "\n",
    "def class_word_counts(texts, labels):\n",
    "    pos_words, neg_words = [], []\n",
    "    for t, y in zip(texts, labels):\n",
    "        ws = process_ru(t)\n",
    "        if y == 1: pos_words.extend(ws)\n",
    "        else: neg_words.extend(ws)\n",
    "    return Counter(pos_words), Counter(neg_words)\n",
    "\n",
    "pos_cnt, neg_cnt = class_word_counts(texts, labels)"
   ]
  },
  {
   "cell_type": "code",
   "execution_count": 37,
   "id": "471a551352d241c4",
   "metadata": {
    "ExecuteTime": {
     "end_time": "2025-10-06T07:13:29.799001Z",
     "start_time": "2025-10-06T07:13:29.588017Z"
    },
    "id": "471a551352d241c4",
    "outputId": "7b2659d6-839e-4726-8df6-30b43e651ed4"
   },
   "outputs": [
    {
     "data": {
      "image/png": "[encoded data removed]",
      "text/plain": [
       "<Figure size 640x480 with 1 Axes>"
      ]
     },
     "metadata": {},
     "output_type": "display_data"
    },
    {
     "data": {
      "image/png": "[encoded data removed]",
      "text/plain": [
       "<Figure size 640x480 with 1 Axes>"
      ]
     },
     "metadata": {},
     "output_type": "display_data"
    }
   ],
   "source": [
    "\n",
    "def plot_top_words(cnt, title, k=15):\n",
    "    top = cnt.most_common(k)\n",
    "    words, freqs = zip(*top) if top else ([], [])\n",
    "    plt.figure()\n",
    "    plt.title(title)\n",
    "    plt.bar(range(len(words)), freqs)\n",
    "    plt.xticks(range(len(words)), words, rotation=45, ha='right')\n",
    "    plt.ylabel(\"Частота\"); plt.tight_layout(); plt.show()\n",
    "\n",
    "plot_top_words(pos_cnt, \"Топ слов — Позитив\", 15)\n",
    "plot_top_words(neg_cnt, \"Топ слов — Негатив\", 15)"
   ]
  },
  {
   "cell_type": "code",
   "execution_count": 38,
   "id": "3506eea7",
   "metadata": {
    "ExecuteTime": {
     "end_time": "2025-10-06T07:13:33.276008Z",
     "start_time": "2025-10-06T07:13:33.139075Z"
    },
    "id": "3506eea7",
    "outputId": "baa277ba-4897-44f7-db51-03c1f9957561"
   },
   "outputs": [
    {
     "data": {
      "image/png": "[encoded data removed]",
      "text/plain": [
       "<Figure size 640x480 with 1 Axes>"
      ]
     },
     "metadata": {},
     "output_type": "display_data"
    },
    {
     "data": {
      "image/png": "[encoded data removed]",
      "text/plain": [
       "<Figure size 640x480 with 1 Axes>"
      ]
     },
     "metadata": {},
     "output_type": "display_data"
    }
   ],
   "source": [
    "\n",
    "def plot_tag_cloud(counter, title, max_words=50):\n",
    "    top = counter.most_common(max_words)\n",
    "    if not top:\n",
    "        print(\"Недостаточно данных для облака\")\n",
    "        return\n",
    "    words, freqs = zip(*top)\n",
    "    freqs = np.array(freqs, dtype=float)\n",
    "    sizes = 8 + 22 * (freqs - freqs.min()) / (freqs.max() - freqs.min() + 1e-9)\n",
    "    import random\n",
    "    grid_w, grid_h = 10, 5\n",
    "    coords = [(x, y) for y in range(grid_h) for x in range(grid_w)]\n",
    "    random.shuffle(coords)\n",
    "    plt.figure(); plt.title(title); plt.axis('off')\n",
    "    for (w, s), (gx, gy) in zip(zip(words, sizes), coords[:len(words)]):\n",
    "        x = (gx + 0.5) / grid_w; y = 1 - (gy + 0.5) / grid_h\n",
    "        plt.text(x, y, w, fontsize=float(s), ha='center', va='center')\n",
    "    plt.show()\n",
    "\n",
    "plot_tag_cloud(pos_cnt, \"Tag Cloud — Позитив\", max_words=40)\n",
    "plot_tag_cloud(neg_cnt, \"Tag Cloud — Негатив\", max_words=40)\n"
   ]
  }
 ],
 "metadata": {
  "colab": {
   "provenance": []
  },
  "kernelspec": {
   "display_name": "venv",
   "language": "python",
   "name": "python3"
  },
  "language_info": {
   "codemirror_mode": {
    "name": "ipython",
    "version": 3
   },
   "file_extension": ".py",
   "mimetype": "text/x-python",
   "name": "python",
   "nbconvert_exporter": "python",
   "pygments_lexer": "ipython3",
   "version": "3.11.9"
  }
 },
 "nbformat": 4,
 "nbformat_minor": 5
}
